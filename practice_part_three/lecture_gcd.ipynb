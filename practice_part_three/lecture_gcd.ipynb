{
 "cells": [
  {
   "cell_type": "markdown",
   "id": "8b2ff51d",
   "metadata": {},
   "source": [
    "<h4>Practice on python (Great Common Divisor)</h4>"
   ]
  },
  {
   "cell_type": "markdown",
   "id": "90d75576",
   "metadata": {},
   "source": [
    "Напишем тест который проверяет переданную ему функцию gcd на корректность"
   ]
  },
  {
   "cell_type": "code",
   "execution_count": 10,
   "id": "e0de0a2d",
   "metadata": {},
   "outputs": [],
   "source": [
    "import random\n",
    "\n",
    "def test(gcd, n_iter=100):\n",
    "    for i in range(n_iter):\n",
    "        c = random.randint(0, 1024)\n",
    "        a = c * random.randint(0, 128)\n",
    "        b = c * random.randint(0, 128)\n",
    "        assert gcd(a, a) == gcd(a, 0) == a\n",
    "        assert gcd(b, b) == gcd(b, 0) == b\n",
    "        assert gcd(a, 1) == gcd(b, 1) == 1\n",
    "        d = gcd(a, b)\n",
    "        assert a % d == b % d == 0"
   ]
  },
  {
   "cell_type": "markdown",
   "id": "f77de56a",
   "metadata": {},
   "source": [
    "Наивный алгоритм функции gcd, работает за линейное время"
   ]
  },
  {
   "cell_type": "code",
   "execution_count": 7,
   "id": "8280939b",
   "metadata": {},
   "outputs": [
    {
     "name": "stdout",
     "output_type": "stream",
     "text": [
      "1\n",
      "8\n",
      "None\n"
     ]
    }
   ],
   "source": [
    "def gcd1(a, b):\n",
    "    assert a >= 0 and b >= 0\n",
    "    for d in reversed(range(1, max(a, b) + 1)): #перебор в обратном порядке, то есть d будет\n",
    "    # принимать значения от максиимума до единицы\n",
    "        if a % d == b % d == 0:\n",
    "            return d\n",
    "\n",
    "print(gcd1(8, 3))\n",
    "print(gcd1(8, 0))\n",
    "print(gcd1(0, 0)) # почему так произошло? в цикле мы перебираем от единицы до максимума,\n",
    "# и цикл идёт от единицы до нуля(включительно) то есть не происходит ни один раз"
   ]
  },
  {
   "cell_type": "code",
   "execution_count": 8,
   "id": "6721e35b",
   "metadata": {},
   "outputs": [
    {
     "data": {
      "text/plain": [
       "0"
      ]
     },
     "execution_count": 8,
     "metadata": {},
     "output_type": "execute_result"
    }
   ],
   "source": [
    "# поправим функцию gcd1\n",
    "\n",
    "def gcd1(a, b):\n",
    "    assert a >= 0 and b >= 0\n",
    "    for d in reversed(range(max(a, b) + 1)): # перебирать будем от максимума до нуля\n",
    "        # и как только мы дошли до нуля нужно его вернуть\n",
    "        if d == 0 or a % d == b % d == 0:\n",
    "            return d\n",
    "\n",
    "gcd1(0, 0)"
   ]
  },
  {
   "cell_type": "code",
   "execution_count": 11,
   "id": "9aa95bc8",
   "metadata": {},
   "outputs": [],
   "source": [
    "test(gcd1)"
   ]
  },
  {
   "cell_type": "markdown",
   "id": "d7e769f0",
   "metadata": {},
   "source": [
    "gcd1 работает за линейное время, это значит, что если мы попытаемся вычислить НОД каких-то действительно очень больших чисел, то не дождёмся"
   ]
  },
  {
   "cell_type": "markdown",
   "id": "8bd0cf0b",
   "metadata": {},
   "source": [
    "напишем реализацию алгоритма Евклида, которая работает быстрее\n",
    "Задачу нахождения НОД двух чисел можно свести к задаче нахождения НОД между меньшим числом и остатком от делени большего числа на меньшее"
   ]
  },
  {
   "cell_type": "code",
   "execution_count": 14,
   "id": "a46988c5",
   "metadata": {},
   "outputs": [
    {
     "data": {
      "text/plain": [
       "1000000000000000"
      ]
     },
     "execution_count": 14,
     "metadata": {},
     "output_type": "execute_result"
    }
   ],
   "source": [
    "def gcd2(a, b):\n",
    "    while a and b: # пока а и b не равны нулю\n",
    "        if a >= b:\n",
    "            a %= b #заменим а на остаток от деления а на b\n",
    "        else:\n",
    "            b %= a\n",
    "    return max(a, b)\n",
    "\n",
    "test(gcd2)\n",
    "gcd2(1000000000000000, 1000000000000000000)"
   ]
  },
  {
   "cell_type": "code",
   "execution_count": 15,
   "id": "1bd1f766",
   "metadata": {},
   "outputs": [],
   "source": [
    "def gcd3(a, b):\n",
    "    assert a >= 0 and b >= 0\n",
    "    if a == 0 or b == 0:\n",
    "        return max(a, b)\n",
    "    elif a >= b:\n",
    "        return gcd3(a % b, b)\n",
    "    else: \n",
    "        return gcd3(a, b % a)\n",
    "    \n",
    "test(gcd3)"
   ]
  },
  {
   "cell_type": "code",
   "execution_count": 16,
   "id": "6dffb4c4",
   "metadata": {},
   "outputs": [],
   "source": [
    "def gcd4(a, b):\n",
    "    assert a >= 0 and b >= 0\n",
    "    if a == 0 or b == 0:\n",
    "        return max(a, b)\n",
    "    return gcd4(b % a, a)\n",
    "\n",
    "test(gcd4)"
   ]
  }
 ],
 "metadata": {
  "kernelspec": {
   "display_name": "Python 3 (ipykernel)",
   "language": "python",
   "name": "python3"
  },
  "language_info": {
   "codemirror_mode": {
    "name": "ipython",
    "version": 3
   },
   "file_extension": ".py",
   "mimetype": "text/x-python",
   "name": "python",
   "nbconvert_exporter": "python",
   "pygments_lexer": "ipython3",
   "version": "3.10.7"
  }
 },
 "nbformat": 4,
 "nbformat_minor": 5
}
